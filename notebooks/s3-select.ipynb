{
 "cells": [
  {
   "cell_type": "code",
   "execution_count": null,
   "metadata": {
    "tags": []
   },
   "outputs": [],
   "source": [
    "import sys\n",
    "!{sys.executable} -m pip install awswrangler "
   ]
  },
  {
   "cell_type": "markdown",
   "metadata": {
    "tags": []
   },
   "source": [
    "# S3 Select"
   ]
  },
  {
   "cell_type": "markdown",
   "metadata": {
    "tags": []
   },
   "source": [
    "This notebook shows how to use interact with [zgw-dbstore](https://github.com/mmgaggle/zgw-dbstore) via S3 Select using [AWS SDK for Pandas](https://github.com/aws/aws-sdk-pandas) (awswranger).\n",
    "\n",
    "Boilerplate to load awswrangler and configure it to use the Kubernetes service FQDN for zgw-dbstore.\n",
    "\n",
    "Kubernetes services do not provide support for wildcard prefixes, so the addressing style needs to be set to path."
   ]
  },
  {
   "cell_type": "code",
   "execution_count": null,
   "metadata": {
    "tags": []
   },
   "outputs": [],
   "source": [
    "import awswrangler as wr\n",
    "import pandas\n",
    "\n",
    "wr.config.s3_endpoint_url = 'http://s3.default.svc.cluster.local'\n",
    "wr.config.addressing_style = 'path'\n",
    "\n",
    "# would be nice to figure out a way to switch between aws-s3 and zgw-dbstore configurations"
   ]
  },
  {
   "cell_type": "markdown",
   "metadata": {},
   "source": [
    "Download some sample data sets and upload them to zgw-dbstore"
   ]
  },
  {
   "cell_type": "code",
   "execution_count": null,
   "metadata": {
    "tags": []
   },
   "outputs": [],
   "source": [
    "# CSV example #1\n",
    "fhv_tripdata_url = \"http://bd-dist.s3.amazonaws.com/fhv_tripdata_2019-09.csv\"\n",
    "df = pandas.read_csv(fhv_tripdata_url)\n",
    "wr.s3.to_csv(df, \"s3://mybucket/fhv_tripdata_2019-09.csv\", index=False)\n",
    "\n",
    "# CSV example #2\n",
    "taxi_zone_lookup_url = \"http://bd-dist.s3.amazonaws.com/taxi_zone_lookup.csv\"\n",
    "df = pandas.read_csv(taxi_zone_lookup_url)\n",
    "wr.s3.to_csv(df, \"s3://mybucket/taxi_zone_lookup.csv\", index=False)\n",
    "\n",
    "# Parquet example\n",
    "fhv_tripdata_pq_url = \"http://bd-dist.s3.amazonaws.com/fhv_tripdata_2022-01.parquet\"\n",
    "# need to figure out a way to read pq from url\n",
    "# wr.s3.to_csv(df, \"s3://mybucket/fhv_tripdata_2022-01.parquet\", index=False)"
   ]
  },
  {
   "cell_type": "markdown",
   "metadata": {
    "tags": []
   },
   "source": [
    "## Read CSV file"
   ]
  },
  {
   "cell_type": "markdown",
   "metadata": {
    "jp-MarkdownHeadingCollapsed": true,
    "tags": []
   },
   "source": [
    "These both work with Ceph"
   ]
  },
  {
   "cell_type": "code",
   "execution_count": null,
   "metadata": {
    "tags": []
   },
   "outputs": [],
   "source": [
    "df = wr.s3.select_query(\n",
    "    sql=\"SELECT * FROM S3Object s where s._2='\\\"Brooklyn\\\"'\",\n",
    "    path=\"s3://mybucket/taxi_zone_lookup.csv\",\n",
    "    input_serialization=\"CSV\",\n",
    "        input_serialization_params={\n",
    "        \"FileHeaderInfo\": \"Use\",\n",
    "        \"RecordDelimiter\": \"\\r\\n\"\n",
    "    },\n",
    "    use_threads=True,\n",
    ")"
   ]
  },
  {
   "cell_type": "code",
   "execution_count": null,
   "metadata": {},
   "outputs": [],
   "source": [
    "df = wr.s3.select_query(\n",
    "    sql=\"SELECT * FROM s3object\",\n",
    "    path=\"s3://mybucket/fhv_tripdata_2019-09.csv\",\n",
    "    input_serialization=\"CSV\",\n",
    "    input_serialization_params={\n",
    "        \"FileHeaderInfo\": \"IGNORE\",\n",
    "        \"RecordDelimiter\": \"\\r\\n\"\n",
    "    },\n",
    "    use_threads=True\n",
    ")"
   ]
  },
  {
   "cell_type": "markdown",
   "metadata": {},
   "source": [
    "This does not appear to work with Ceph, but works with Amazon S3"
   ]
  },
  {
   "cell_type": "code",
   "execution_count": null,
   "metadata": {
    "tags": []
   },
   "outputs": [],
   "source": [
    "df = wr.s3.select_query(\n",
    "    sql=\"SELECT * FROM s3object\",\n",
    "    path=\"s3://mybucket/fhv_tripdata_2019-09.csv\",\n",
    "    input_serialization=\"CSV\",\n",
    "    input_serialization_params={\n",
    "        \"FileHeaderInfo\": \"Use\",\n",
    "        \"RecordDelimiter\": \"\\r\\n\"\n",
    "    },\n",
    "    use_threads=True,\n",
    ")\n",
    "df.head()"
   ]
  },
  {
   "cell_type": "markdown",
   "metadata": {},
   "source": [
    "## Read Parquet file"
   ]
  },
  {
   "cell_type": "markdown",
   "metadata": {},
   "source": [
    "This does not appear to work with Ceph"
   ]
  },
  {
   "cell_type": "code",
   "execution_count": null,
   "metadata": {
    "tags": []
   },
   "outputs": [],
   "source": [
    "df = wr.s3.select_query(\n",
    "        sql=\"SELECT * FROM s3object\",\n",
    "        path=\"s3://mybucket/fhv_tripdata_2022-01.parquet\",\n",
    "        input_serialization=\"Parquet\",\n",
    "        input_serialization_params={},\n",
    "        use_threads=True,\n",
    ")"
   ]
  },
  {
   "cell_type": "markdown",
   "metadata": {
    "tags": []
   },
   "source": [
    "## Read JSON file"
   ]
  }
 ],
 "metadata": {
  "interpreter": {
   "hash": "abf31c45c41a2718a2f25e3a2e428f2a986d4fe24d411f7f5e3ce0fef626968d"
  },
  "kernelspec": {
   "display_name": "Python 3 (ipykernel)",
   "language": "python",
   "name": "python3"
  },
  "language_info": {
   "codemirror_mode": {
    "name": "ipython",
    "version": 3
   },
   "file_extension": ".py",
   "mimetype": "text/x-python",
   "name": "python",
   "nbconvert_exporter": "python",
   "pygments_lexer": "ipython3",
   "version": "3.10.6"
  },
  "metadata": {
   "interpreter": {
    "hash": "e4beff3b9c91951bd870e0e6d1ba9dfdd106cfe45c6f3d0f8d31550063fd3386"
   }
  }
 },
 "nbformat": 4,
 "nbformat_minor": 4
}
