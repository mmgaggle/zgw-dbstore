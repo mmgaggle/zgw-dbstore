{
 "cells": [
  {
   "cell_type": "code",
   "execution_count": null,
   "metadata": {
    "tags": []
   },
   "outputs": [],
   "source": [
    "import sys\n",
    "!{sys.executable} -m pip install awswrangler "
   ]
  },
  {
   "cell_type": "markdown",
   "metadata": {},
   "source": [
    "# S3 Select"
   ]
  },
  {
   "cell_type": "markdown",
   "metadata": {},
   "source": [
    "Download some sample data sets and upload them to zgw-dbstore"
   ]
  },
  {
   "cell_type": "code",
   "execution_count": null,
   "metadata": {
    "tags": []
   },
   "outputs": [],
   "source": [
    "import awswrangler as swr\n",
    "import pandas\n",
    "\n",
    "example_csv = \"http://bd-dist.s3.amazonaws.com/fhv_tripdata_2019-09.csv\"\n",
    "\n",
    "# Need to fetch and upload the parquet file, pyarrow does not support url sources\n",
    "# curl -LO https://d37ci6vzurychx.cloudfront.net/trip-data/fhv_tripdata_2022-01.parquet\n",
    "\n",
    "target = \"s3://mybucket/fhv_tripdata_2019-09.csv\"\n",
    "\n",
    "df = pandas.read_csv(example_csv)\n",
    "\n",
    "wr.config.s3_endpoint_url = 'http://s3.default.svc.cluster.local'\n",
    "wr.config.addressing_style = 'path'\n",
    "\n",
    "wr.s3.to_csv(df, target, index=False)\n"
   ]
  },
  {
   "cell_type": "markdown",
   "metadata": {},
   "source": [
    "## Read full CSV file"
   ]
  },
  {
   "cell_type": "markdown",
   "metadata": {},
   "source": [
    "The works with Ceph"
   ]
  },
  {
   "cell_type": "code",
   "execution_count": null,
   "metadata": {},
   "outputs": [],
   "source": [
    "df = wr.s3.select_query(\n",
    "    sql=\"SELECT * FROM s3object\",\n",
    "    path=\"s3://mybucket/fhv_tripdata_2019-09.csv\",\n",
    "    input_serialization=\"CSV\",\n",
    "    input_serialization_params={\n",
    "        \"FileHeaderInfo\": \"IGNORE\",\n",
    "        \"RecordDelimiter\": \"\\r\\n\"\n",
    "    },\n",
    "    use_threads=True\n",
    ")"
   ]
  },
  {
   "cell_type": "markdown",
   "metadata": {},
   "source": [
    "This does not appear to work with Ceph, but works with Amazon S3"
   ]
  },
  {
   "cell_type": "code",
   "execution_count": null,
   "metadata": {
    "tags": []
   },
   "outputs": [],
   "source": [
    "df = wr.s3.select_query(\n",
    "    sql=\"SELECT * FROM s3object\",\n",
    "    path=\"s3://mybucket/fhv_tripdata_2019-09.csv\",\n",
    "    input_serialization=\"CSV\",\n",
    "    input_serialization_params={\n",
    "        \"FileHeaderInfo\": \"Use\",\n",
    "        \"RecordDelimiter\": \"\\r\\n\"\n",
    "    },\n",
    "    use_threads=True,\n",
    ")\n",
    "df.head()"
   ]
  },
  {
   "cell_type": "markdown",
   "metadata": {},
   "source": [
    "# Read Parquet"
   ]
  },
  {
   "cell_type": "markdown",
   "metadata": {},
   "source": [
    "This does not appear to work with Ceph"
   ]
  },
  {
   "cell_type": "code",
   "execution_count": null,
   "metadata": {
    "tags": []
   },
   "outputs": [],
   "source": [
    "df = wr.s3.select_query(\n",
    "        sql=\"SELECT * FROM s3object\",\n",
    "        path=\"s3://mybucket/fhv_tripdata_2022-01.parquet\",\n",
    "        input_serialization=\"Parquet\",\n",
    "        input_serialization_params={},\n",
    "        use_threads=True,\n",
    ")"
   ]
  }
 ],
 "metadata": {
  "interpreter": {
   "hash": "abf31c45c41a2718a2f25e3a2e428f2a986d4fe24d411f7f5e3ce0fef626968d"
  },
  "kernelspec": {
   "display_name": "Python 3 (ipykernel)",
   "language": "python",
   "name": "python3"
  },
  "language_info": {
   "codemirror_mode": {
    "name": "ipython",
    "version": 3
   },
   "file_extension": ".py",
   "mimetype": "text/x-python",
   "name": "python",
   "nbconvert_exporter": "python",
   "pygments_lexer": "ipython3",
   "version": "3.10.6"
  },
  "metadata": {
   "interpreter": {
    "hash": "e4beff3b9c91951bd870e0e6d1ba9dfdd106cfe45c6f3d0f8d31550063fd3386"
   }
  }
 },
 "nbformat": 4,
 "nbformat_minor": 4
}
