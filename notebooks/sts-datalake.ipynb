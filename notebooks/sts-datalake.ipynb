{
 "cells": [
  {
   "cell_type": "code",
   "execution_count": null,
   "id": "d11ab164-1cf4-4b6f-b4ac-ea074139cc36",
   "metadata": {},
   "outputs": [],
   "source": [
    "!{sys.executable} -m pip install boto3"
   ]
  },
  {
   "cell_type": "code",
   "execution_count": null,
   "id": "eb9894f5-2d50-411c-8acb-4bf3c5db872a",
   "metadata": {},
   "outputs": [],
   "source": [
    "import boto3\n",
    "\n",
    "iam_client = boto3.client('iam',\n",
    "  endpoint_url='http://s3.default.svc.cluster.local',\n",
    "  region_name=''\n",
    ")"
   ]
  },
  {
   "cell_type": "markdown",
   "id": "40f0e058-20f2-4398-b37d-992e2884afbf",
   "metadata": {},
   "source": [
    "## Admin"
   ]
  },
  {
   "cell_type": "markdown",
   "id": "a0d7c905-3d8f-468c-90dd-08482de8aa80",
   "metadata": {},
   "source": [
    "* AssumeRole admin, by named principals (example: Tom)\n",
    "* Owns all buckets\n",
    "* Creates and modifies IAM policies, IAM OIDC providers"
   ]
  },
  {
   "cell_type": "code",
   "execution_count": null,
   "id": "2ee17352-4520-46f7-84e0-fb166ba085d3",
   "metadata": {},
   "outputs": [],
   "source": [
    "policy_document = '''{\"Version\":\"2012-10-17\",\"Statement\":[{\"Effect\":\"Allow\",\"Principal\":{\"AWS\":[\"arn:aws:iam:::user/zippy\"]},\"Action\":[\"sts:AssumeRole\"]}]}'''\n",
    "\n",
    "role_response = iam_client.create_role(\n",
    "  AssumeRolePolicyDocument=policy_document,\n",
    "  Path='/',\n",
    "  RoleName='Admin',\n",
    ")\n",
    "\n",
    "# Need to add allowances for IAM resources\n",
    "role_policy = '''{\"Version\":\"2012-10-17\",\"Statement\":{\"Effect\":\"Allow\",\"Action\":\"s3:*\",\"Resource\":\"arn:aws:s3:::*\"}}'''\n",
    "\n",
    "response = iam_client.put_role_policy(\n",
    "  RoleName='Admin',\n",
    "  PolicyName='AdminPolicy',\n",
    "  PolicyDocument=role_policy\n",
    ")"
   ]
  },
  {
   "cell_type": "markdown",
   "id": "90e088a5-f5f9-4257-b783-fb5b3b19164f",
   "metadata": {},
   "source": [
    "Create red, blue, and green buckets"
   ]
  },
  {
   "cell_type": "code",
   "execution_count": null,
   "id": "3401d3c2-1d05-4d47-ac6d-8e08bb34cfe1",
   "metadata": {},
   "outputs": [],
   "source": []
  },
  {
   "cell_type": "markdown",
   "id": "6933b539-27eb-4be4-b792-66acc4a95936",
   "metadata": {
    "tags": []
   },
   "source": [
    "## Data Engineers"
   ]
  },
  {
   "cell_type": "markdown",
   "id": "145ce0f2-c20d-4e11-9202-6bd46e1e0bf8",
   "metadata": {
    "tags": []
   },
   "source": [
    "* AssumeRole lakeadmin, by named principals (example: Dick)\n",
    "* Creates and modifies bucket policy\n",
    "* Creates and modifies bucket lifecycle configurations\n",
    "* Cleans data with ETL jobs, etc."
   ]
  },
  {
   "cell_type": "code",
   "execution_count": null,
   "id": "27f7a6a4-1c15-4914-aadc-eb02e4b8b822",
   "metadata": {},
   "outputs": [],
   "source": [
    "policy_document = '''{\"Version\":\"2012-10-17\",\"Statement\":[{\"Effect\":\"Allow\",\"Principal\":{\"AWS\":[\"arn:aws:iam:::user/zippy\"]},\"Action\":[\"sts:AssumeRole\"]}]}'''\n",
    "\n",
    "role_response = iam_client.create_role(\n",
    "  AssumeRolePolicyDocument=policy_document,\n",
    "  Path='/',\n",
    "  RoleName='DataEngineer',\n",
    ")\n",
    "\n",
    "# Need to reduce this\n",
    "## PutObject, PutBucketPolicy, PutBucketLifecycleConfiguration, GetObject, GetObjectContents\n",
    "role_policy = '''{\"Version\":\"2012-10-17\",\"Statement\":{\"Effect\":\"Allow\",\"Action\":\"s3:*\",\"Resource\":\"arn:aws:s3:::*\"}}'''\n",
    "\n",
    "response = iam_client.put_role_policy(\n",
    "  RoleName='DataEngineer',\n",
    "  PolicyName='DataEngineerPolicy',\n",
    "  PolicyDocument=role_policy\n",
    ")"
   ]
  },
  {
   "cell_type": "markdown",
   "id": "5b5a2f0d-ce59-4c6a-8ef5-03c7840df9df",
   "metadata": {
    "tags": []
   },
   "source": [
    "## Interactive Query (Trino)"
   ]
  },
  {
   "cell_type": "markdown",
   "id": "ddfb1b7f-cec5-4c6c-9dd9-1b54577959c2",
   "metadata": {},
   "source": [
    "* AssumeRole presto, by service user\n",
    "* Policy enforment point for named principals without direct access (example: Harry)\n",
    "* Integrated with Apache Ranger"
   ]
  },
  {
   "cell_type": "code",
   "execution_count": null,
   "id": "ffc15312-1bd9-4557-9d8b-8022fad128cf",
   "metadata": {},
   "outputs": [],
   "source": [
    "policy_document = '''{\"Version\":\"2012-10-17\",\"Statement\":[{\"Effect\":\"Allow\",\"Principal\":{\"AWS\":[\"arn:aws:iam:::user/trino\"]},\"Action\":[\"sts:AssumeRole\"]}]}'''\n",
    "\n",
    "role_response = iam_client.create_role(\n",
    "  AssumeRolePolicyDocument=policy_document,\n",
    "  Path='/',\n",
    "  RoleName='Trino',\n",
    ")\n",
    "\n",
    "# Need to reduce this\n",
    "## permit GetObject, GetObjectContents\n",
    "role_policy = '''{\"Version\":\"2012-10-17\",\"Statement\":{\"Effect\":\"Allow\",\"Action\":\"s3:*\",\"Resource\":\"arn:aws:s3:::*\"}}'''\n",
    "\n",
    "response = iam_client.put_role_policy(\n",
    "  RoleName='Trino',\n",
    "  PolicyName='TrinoPolicy',\n",
    "  PolicyDocument=role_policy\n",
    ")\n"
   ]
  },
  {
   "cell_type": "markdown",
   "id": "65b719bf-a107-45b8-8529-e8b27eec2c4a",
   "metadata": {},
   "source": [
    "Example Trino configuration"
   ]
  },
  {
   "cell_type": "markdown",
   "id": "f6fbde60-ff2f-49f2-a458-23a8bdc4851e",
   "metadata": {},
   "source": [
    "```\n",
    "hive.s3.iam-role=Trino\n",
    "hive.s3.sts.endpoint=http://s3.default.svc.cluster.local\n",
    "hive.s3.sts.region=''\n",
    "hive.s3.aws-access-key=\n",
    "hive.s3.aws-secret-key=\n",
    "hive.s3.endpoint=http://s3.default.svc.cluster.local\n",
    "hive.s3.path-style-access=true\n",
    "hive.s3.ssl.enabled=false\n",
    "hive.s3select-pushdown.enabled=true\n",
    "```"
   ]
  },
  {
   "cell_type": "markdown",
   "id": "ab1d94de-6339-46b6-993c-a50b99be904d",
   "metadata": {},
   "source": [
    "# Workflows"
   ]
  },
  {
   "cell_type": "markdown",
   "id": "cb7d2c9a-73b5-414d-8679-39ef26e48e2c",
   "metadata": {},
   "source": [
    "Assume role LakeAdmin"
   ]
  },
  {
   "cell_type": "code",
   "execution_count": null,
   "id": "ea06b47e-55f9-4fd6-be00-5b7036cf85bb",
   "metadata": {},
   "outputs": [],
   "source": [
    "sts_client = boto3.client('sts',\n",
    "  aws_access_key_id=??,\n",
    "  aws_secret_access_key=??,\n",
    "  endpoint_url='http://s3.default.svc.cluster.local',\n",
    "  region_name='',\n",
    ")\n",
    "\n",
    "response = sts_client.assume_role(\n",
    "  RoleArn=role_response['Role']['Arn'],\n",
    "  RoleSessionName='Bob',\n",
    "  DurationSeconds=3600\n",
    ")"
   ]
  },
  {
   "cell_type": "code",
   "execution_count": null,
   "id": "c5c533a0-dfc5-4f90-a2fe-099e1da3415f",
   "metadata": {},
   "outputs": [],
   "source": [
    "s3client = boto3.client('s3',\n",
    "  aws_access_key_id = response['Credentials']['AccessKeyId'],\n",
    "  aws_secret_access_key = response['Credentials']['SecretAccessKey'],\n",
    "  aws_session_token = response['Credentials']['SessionToken'],\n",
    "  endpoint_url='http://s3.default.svc.cluster.local',\n",
    "  region_name='',)\n",
    "\n",
    "bucket_name = 'my-bucket'\n",
    "s3bucket = s3client.create_bucket(Bucket=bucket_name)\n",
    "resp = s3client.list_buckets()"
   ]
  }
 ],
 "metadata": {
  "kernelspec": {
   "display_name": "Python 3 (ipykernel)",
   "language": "python",
   "name": "python3"
  },
  "language_info": {
   "codemirror_mode": {
    "name": "ipython",
    "version": 3
   },
   "file_extension": ".py",
   "mimetype": "text/x-python",
   "name": "python",
   "nbconvert_exporter": "python",
   "pygments_lexer": "ipython3",
   "version": "3.10.6"
  }
 },
 "nbformat": 4,
 "nbformat_minor": 5
}
